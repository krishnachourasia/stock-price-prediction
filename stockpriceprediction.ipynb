{
 "cells": [
  {
   "cell_type": "code",
   "execution_count": 5,
   "metadata": {},
   "outputs": [],
   "source": [
    "import quandl\n",
    "quandl.ApiConfig.api_key = 'key'"
   ]
  },
  {
   "cell_type": "code",
   "execution_count": 6,
   "metadata": {
    "scrolled": true
   },
   "outputs": [
    {
     "name": "stdout",
     "output_type": "stream",
     "text": [
      "              Open   High    Low  Close      Volume  Ex-Dividend  Split Ratio  \\\n",
      "Date                                                                            \n",
      "2017-12-04  12.650  12.81  12.59  12.63  39394346.0          0.0          1.0   \n",
      "2017-12-05  12.610  12.62  12.40  12.43  44378959.0          0.0          1.0   \n",
      "2017-12-06  12.400  12.43  12.28  12.38  25879892.0          0.0          1.0   \n",
      "2017-12-07  12.395  12.59  12.33  12.53  25404223.0          0.0          1.0   \n",
      "2017-12-08  12.530  12.61  12.43  12.61  21217510.0          0.0          1.0   \n",
      "\n",
      "            Adj. Open  Adj. High  Adj. Low  Adj. Close  Adj. Volume  \n",
      "Date                                                                 \n",
      "2017-12-04     12.650      12.81     12.59       12.63   39394346.0  \n",
      "2017-12-05     12.610      12.62     12.40       12.43   44378959.0  \n",
      "2017-12-06     12.400      12.43     12.28       12.38   25879892.0  \n",
      "2017-12-07     12.395      12.59     12.33       12.53   25404223.0  \n",
      "2017-12-08     12.530      12.61     12.43       12.61   21217510.0  \n"
     ]
    }
   ],
   "source": [
    "mydata = quandl.get(\"WIKI/F\", start_date=\"2017-12-04\", end_date=\"2017-12-09\")\n",
    "print(mydata)"
   ]
  },
  {
   "cell_type": "code",
   "execution_count": 7,
   "metadata": {},
   "outputs": [
    {
     "name": "stdout",
     "output_type": "stream",
     "text": [
      "<class 'pandas.core.frame.DataFrame'>\n"
     ]
    }
   ],
   "source": [
    "print(type(mydata))"
   ]
  },
  {
   "cell_type": "code",
   "execution_count": 8,
   "metadata": {},
   "outputs": [],
   "source": [
    "import pandas as pd\n",
    "def get_data_quandl(symbol,start_date,end_date):\n",
    "    data = quandl.get(symbol,start_date=start_date,end_date=end_date)\n",
    "    return data"
   ]
  },
  {
   "cell_type": "code",
   "execution_count": 9,
   "metadata": {},
   "outputs": [],
   "source": [
    "def generate_features(df):\n",
    "        df_new = pd.DataFrame()\n",
    "        # 6 Original features\n",
    "        df_new['open'] = df['Open']\n",
    "        df_new['open_1'] = df['Open'].shift(1)\n",
    "        df_new['close_1'] = df['Close'].shift(1)\n",
    "        df_new['high_1'] = df['High'].shift(1)\n",
    "        df_new['low_1'] = df['Low'].shift(1)\n",
    "        df_new['volume_1'] = df['Volume'].shift(1)\n",
    "        \n",
    "        ## Derived Featues\n",
    "        \n",
    "        # Averages of closing price\n",
    "        df_new['avg_price_5'] = df['Close'].rolling(5).mean().shift(1)\n",
    "        df_new['avg_price_30'] = df['Close'].rolling(21).mean().shift(1)\n",
    "        df_new['avg_price_365'] = df['Close'].rolling(252).mean().shift(1)\n",
    "        # ratios of averages of closing price\n",
    "        df_new['ratio_avg_price_5_30'] = df_new['avg_price_5'] / df_new['avg_price_30']\n",
    "        df_new['ratio_avg_price_5_365'] = df_new['avg_price_5'] / df_new['avg_price_365']\n",
    "        df_new['ratio_avg_price_30_365'] = df_new['avg_price_30'] / df_new['avg_price_365']\n",
    "        \n",
    "        # Averages of volumes traded\n",
    "        df_new['avg_volume_5'] = df['Volume'].rolling(5).mean().shift(1)\n",
    "        df_new['avg_volume_30'] = df['Volume'].rolling(21).mean().shift(1)\n",
    "        df_new['avg_volume_365'] = df['Volume'].rolling(252).mean().shift(1)\n",
    "        # ratios of averages of volumes traded\n",
    "        df_new['ratio_avg_volume_5_30'] = df_new['avg_volume_5'] / df_new['avg_volume_30']\n",
    "        df_new['ratio_avg_volume_5_365'] = df_new['avg_volume_5'] / df_new['avg_volume_365']\n",
    "        df_new['ratio_avg_volume_30_365'] = df_new['avg_volume_30'] / df_new['avg_volume_365']\n",
    "\n",
    "        # standard deviation of prices\n",
    "        df_new['std_price_5'] = df['Close'].rolling(5).std().shift(1)\n",
    "        df_new['std_price_30'] = df['Close'].rolling(21).std().shift(1)\n",
    "        df_new['std_price_365'] = df['Close'].rolling(252).std().shift(1)\n",
    "        # Ratios of S.D. prices\n",
    "        df_new['ratio_std_price_5_30'] = df_new['std_price_5'] / df_new['std_price_30']\n",
    "        df_new['ratio_std_price_5_365'] = df_new['std_price_5'] / df_new['std_price_365']\n",
    "        df_new['ratio_std_price_30_365'] = df_new['std_price_30'] / df_new['std_price_365']\n",
    "        \n",
    "        # standard deviation of volumes traded\n",
    "        df_new['std_volume_5'] = df['Volume'].rolling(5).std().shift(1)\n",
    "        df_new['std_volume_30'] = df['Volume'].rolling(21).std().shift(1)\n",
    "        df_new['std_volume_365'] = df['Volume'].rolling(252).std().shift(1)\n",
    "        # Ratios of S.D. volumes traded\n",
    "        df_new['ratio_std_volume_5_30'] = df_new['std_volume_5'] / df_new['std_volume_30']\n",
    "        df_new['ratio_std_volume_5_365'] = df_new['std_volume_5'] / df_new['std_volume_365']\n",
    "        df_new['ratio_std_volume_30_365'] = df_new['std_volume_30'] / df_new['std_volume_365']\n",
    "        \n",
    "        # Calculating returns\n",
    "        df_new['return_1'] = ((df['Close'] - df['Close'].shift(1)) / df['Close'].shift(1)).shift(1)\n",
    "        df_new['return_5'] = ((df['Close'] - df['Close'].shift(5)) / df['Close'].shift(5)).shift(1)\n",
    "        df_new['return_30'] = ((df['Close'] - df['Close'].shift(21)) / df['Close'].shift(21)).shift(1)\n",
    "        df_new['return_365'] = ((df['Close'] - df['Close'].shift(252)) / df['Close'].shift(252)).shift(1)\n",
    "        # averages of returns\n",
    "        df_new['moving_avg_5'] = df_new['return_1'].rolling(5).mean().shift(1)\n",
    "        df_new['moving_avg_30'] = df_new['return_1'].rolling(21).mean().shift(1)\n",
    "        df_new['moving_avg_365'] = df_new['return_1'].rolling(252).mean().shift(1)\n",
    "        \n",
    "        # the target\n",
    "        df_new['close'] = df['Close']\n",
    "        # dropping N/A valued rows (because of moving averages)\n",
    "        df_new = df_new.dropna(axis=0)\n",
    "        \n",
    "        return df_new"
   ]
  },
  {
   "cell_type": "code",
   "execution_count": 10,
   "metadata": {},
   "outputs": [
    {
     "name": "stdout",
     "output_type": "stream",
     "text": [
      "             open  open_1  close_1  high_1  low_1    volume_1  avg_price_5  \\\n",
      "Date                                                                         \n",
      "2002-01-10  15.85   16.50    16.31   16.83  16.30   7033600.0       16.608   \n",
      "2002-01-11  15.26   15.85    15.29   15.90  15.10  14260600.0       16.320   \n",
      "2002-01-14  15.50   15.26    15.50   15.75  14.90  20725100.0       16.032   \n",
      "2002-01-15  15.20   15.50    15.35   15.50  15.15   7188300.0       15.802   \n",
      "2002-01-16  14.90   15.20    15.04   15.60  14.91   9463000.0       15.498   \n",
      "\n",
      "            avg_price_30  avg_price_365  ratio_avg_price_5_30  ...  \\\n",
      "Date                                                           ...   \n",
      "2002-01-10        15.969         23.237                 1.040  ...   \n",
      "2002-01-11        15.904         23.191                 1.026  ...   \n",
      "2002-01-14        15.849         23.148                 1.012  ...   \n",
      "2002-01-15        15.787         23.108                 1.001  ...   \n",
      "2002-01-16        15.733         23.062                 0.985  ...   \n",
      "\n",
      "            ratio_std_volume_5_365  ratio_std_volume_30_365  return_1  \\\n",
      "Date                                                                    \n",
      "2002-01-10                   0.654                    0.926    -0.015   \n",
      "2002-01-11                   1.502                    1.132    -0.063   \n",
      "2002-01-14                   2.564                    1.521     0.014   \n",
      "2002-01-15                   2.499                    1.507    -0.010   \n",
      "2002-01-16                   2.177                    1.491    -0.020   \n",
      "\n",
      "            return_5  return_30  return_365  moving_avg_5  moving_avg_30  \\\n",
      "Date                                                                       \n",
      "2002-01-10     0.006     -0.048      -0.351         0.011         -0.002   \n",
      "2002-01-11    -0.086     -0.082      -0.432         0.001         -0.002   \n",
      "2002-01-14    -0.085     -0.070      -0.410        -0.017         -0.004   \n",
      "2002-01-15    -0.070     -0.078      -0.401        -0.017         -0.003   \n",
      "2002-01-16    -0.092     -0.070      -0.431        -0.014         -0.004   \n",
      "\n",
      "            moving_avg_365  close  \n",
      "Date                               \n",
      "2002-01-10          -0.001  15.29  \n",
      "2002-01-11          -0.001  15.50  \n",
      "2002-01-14          -0.002  15.35  \n",
      "2002-01-15          -0.002  15.04  \n",
      "2002-01-16          -0.002  14.96  \n",
      "\n",
      "[5 rows x 38 columns]\n"
     ]
    }
   ],
   "source": [
    "symbol = 'WIKI/F'\n",
    "start = '2001-01-01'\n",
    "end = '2004-12-31'\n",
    "data_raw = get_data_quandl(symbol, start, end)\n",
    "data = generate_features(data_raw)\n",
    "print(data.round(decimals=3).head())"
   ]
  },
  {
   "cell_type": "code",
   "execution_count": 11,
   "metadata": {},
   "outputs": [],
   "source": [
    "import numpy as np\n",
    "import matplotlib.pyplot as plt\n",
    "\n",
    "def compute_prediction(X, weights):\n",
    "    predictions = np.dot(X,weights)\n",
    "    return predictions"
   ]
  },
  {
   "cell_type": "code",
   "execution_count": 12,
   "metadata": {},
   "outputs": [],
   "source": [
    "# gradient descent\n",
    "def update_weights_gd(X_train, y_train, weights, learning_rate):\n",
    "    predictions = compute_prediction(X_train, weights)\n",
    "    weights_delta = np.dot(X_train.T, y_train - predictions)\n",
    "    m = y_train.shape[0]\n",
    "    weights += learning_rate/float(m) * weights_delta\n",
    "    return weights"
   ]
  },
  {
   "cell_type": "code",
   "execution_count": 13,
   "metadata": {},
   "outputs": [],
   "source": [
    "# squared mean error\n",
    "def compute_cost(X, y, weights):\n",
    "    predictions = compute_prediction(X, weights)\n",
    "    cost = np.mean((predictions - y) ** 2 / 2.0)\n",
    "    return cost"
   ]
  },
  {
   "cell_type": "code",
   "execution_count": 14,
   "metadata": {},
   "outputs": [],
   "source": [
    "# linear regression function\n",
    "def train_linear_regression(X_train, y_train, max_iter, learning_rate, fit_intercept=False):\n",
    "    if fit_intercept:\n",
    "        intercept = np.ones((X_train.shape[0], 1))\n",
    "        X_train = np.hstack((intercept, X_train))\n",
    "        weights = np.zeros(X_train.shape[1])\n",
    "        for iteration in range(max_iter):\n",
    "            weights = update_weights_gd(X_train, y_train, weights, learning_rate)\n",
    "            # Check the cost for every 100 (for example) iterations\n",
    "        if iteration % 100 == 0:\n",
    "            print(compute_cost(X_train, y_train, weights))\n",
    "    return weights"
   ]
  },
  {
   "cell_type": "code",
   "execution_count": 15,
   "metadata": {},
   "outputs": [],
   "source": [
    "# predicting new values\n",
    "def predict(X, weights):\n",
    "    if X.shape[1] == weights.shape[0] - 1:\n",
    "        intercept = np.ones((X.shape[0], 1))\n",
    "    X = np.hstack((intercept, X))\n",
    "    return compute_prediction(X, weights)"
   ]
  },
  {
   "cell_type": "code",
   "execution_count": 16,
   "metadata": {},
   "outputs": [],
   "source": [
    "X_train = np.array([[6], [2], [3], [4], [1], [5], [2], [6], [4], [7]])\n",
    "y_train = np.array([5.5, 1.6, 2.2, 3.7, 0.8, 5.2, 1.5, 5.3, 4.4, 6.8])\n",
    "weights = train_linear_regression(X_train, \n",
    "                                  y_train, \n",
    "                                  max_iter=100, \n",
    "                                  learning_rate=0.01,\n",
    "                                  fit_intercept=True)"
   ]
  },
  {
   "cell_type": "code",
   "execution_count": 17,
   "metadata": {},
   "outputs": [
    {
     "data": {
      "text/plain": [
       "Text(0, 0.5, 'y')"
      ]
     },
     "execution_count": 17,
     "metadata": {},
     "output_type": "execute_result"
    },
    {
     "data": {
      "image/png": "[encoded data removed]",
      "text/plain": [
       "<Figure size 432x288 with 1 Axes>"
      ]
     },
     "metadata": {
      "needs_background": "light"
     },
     "output_type": "display_data"
    }
   ],
   "source": [
    "X_test = np.array([[1.3], [3.5], [5.2], [2.8]])\n",
    "predictions = predict(X_test, weights)\n",
    " \n",
    "plt.scatter(X_train[:, 0], y_train, marker='o', c='b')\n",
    "plt.scatter(X_test[:, 0], predictions, marker='*', c='k')\n",
    "plt.xlabel('x')\n",
    "plt.ylabel('y')\n",
    "# plt.show()"
   ]
  },
  {
   "cell_type": "code",
   "execution_count": 18,
   "metadata": {},
   "outputs": [
    {
     "name": "stdout",
     "output_type": "stream",
     "text": [
      "(442, 10)\n"
     ]
    }
   ],
   "source": [
    "from sklearn import datasets\n",
    "diabetes = datasets.load_diabetes()\n",
    "print(diabetes.data.shape)\n",
    "num_test = 30\n",
    "X_train = diabetes.data[:-num_test, :]\n",
    "y_train = diabetes.target[:-num_test]"
   ]
  },
  {
   "cell_type": "code",
   "execution_count": 19,
   "metadata": {
    "scrolled": true
   },
   "outputs": [
    {
     "name": "stdout",
     "output_type": "stream",
     "text": [
      "Predictions:\n",
      "[232.22305668 123.87481969 166.12805033 170.23901231 228.12868839\n",
      " 154.95746522 101.09058779  87.33631249 143.68332296 190.29353122\n",
      " 198.00676871 149.63039042 169.56066651 109.01983998 161.98477191\n",
      " 133.00870377 260.1831988  101.52551082 115.76677836 120.7338523\n",
      " 219.62602446  62.21227353 136.29989073 122.27908721  55.14492975\n",
      " 191.50339388 105.685612   126.25915035 208.99755875  47.66517424]\n",
      "y_test\n",
      "[261. 113. 131. 174. 257.  55.  84.  42. 146. 212. 233.  91. 111. 152.\n",
      " 120.  67. 310.  94. 183.  66. 173.  72.  49.  64.  48. 178. 104. 132.\n",
      " 220.  57.]\n"
     ]
    }
   ],
   "source": [
    "weights = train_linear_regression(X_train, y_train, max_iter=5000, learning_rate=1,fit_intercept=True)\n",
    "X_test = diabetes.data[-num_test:, :]\n",
    "y_test = diabetes.target[-num_test:]\n",
    "predictions = predict(X_test, weights)\n",
    "print(\"Predictions:\")\n",
    "print(predictions)\n",
    "print(\"y_test\")\n",
    "print(y_test)"
   ]
  },
  {
   "cell_type": "code",
   "execution_count": 22,
   "metadata": {},
   "outputs": [
    {
     "name": "stdout",
     "output_type": "stream",
     "text": [
      "[223.53146167 127.19426652 183.69675729 172.40581307 215.06698461\n",
      " 149.86905026 117.91284817  94.76216056 155.78447859 196.31872624\n",
      " 192.85890775 163.54157803 173.86912213  99.10462044 180.93490084\n",
      " 137.36393725 256.90104414 108.75837646 126.58736322 129.3427314\n",
      " 216.55015251  78.54221046 140.96571965 125.22090399  63.04304739\n",
      " 189.60138379 130.56696446 138.60514785 194.73791606  66.52790449]\n"
     ]
    }
   ],
   "source": [
    "from sklearn.linear_model import SGDRegressor\n",
    "regressor = SGDRegressor(loss='squared_loss', penalty='l2', \n",
    "   alpha=0.0001, learning_rate='constant', eta0=0.01, max_iter=1000)\n",
    "regressor.fit(X_train, y_train)\n",
    "predictions = regressor.predict(X_test)\n",
    "print(predictions)"
   ]
  },
  {
   "cell_type": "code",
   "execution_count": null,
   "metadata": {},
   "outputs": [],
   "source": []
  }
 ],
 "metadata": {
  "kernelspec": {
   "display_name": "Python 3",
   "language": "python",
   "name": "python3"
  },
  "language_info": {
   "codemirror_mode": {
    "name": "ipython",
    "version": 3
   },
   "file_extension": ".py",
   "mimetype": "text/x-python",
   "name": "python",
   "nbconvert_exporter": "python",
   "pygments_lexer": "ipython3",
   "version": "3.7.4"
  }
 },
 "nbformat": 4,
 "nbformat_minor": 2
}
