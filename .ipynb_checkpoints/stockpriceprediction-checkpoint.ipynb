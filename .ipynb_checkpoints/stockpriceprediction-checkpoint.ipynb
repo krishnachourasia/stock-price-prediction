{
 "cells": [
  {
   "cell_type": "code",
   "execution_count": 6,
   "metadata": {},
   "outputs": [],
   "source": [
    "import quandl\n",
    "quandl.ApiConfig.api_key = 'api'"
   ]
  },
  {
   "cell_type": "code",
   "execution_count": 2,
   "metadata": {},
   "outputs": [
    {
     "name": "stdout",
     "output_type": "stream",
     "text": [
      "              Open   High    Low  Close      Volume  Ex-Dividend  Split Ratio  \\\n",
      "Date                                                                            \n",
      "2017-12-04  12.650  12.81  12.59  12.63  39394346.0          0.0          1.0   \n",
      "2017-12-05  12.610  12.62  12.40  12.43  44378959.0          0.0          1.0   \n",
      "2017-12-06  12.400  12.43  12.28  12.38  25879892.0          0.0          1.0   \n",
      "2017-12-07  12.395  12.59  12.33  12.53  25404223.0          0.0          1.0   \n",
      "2017-12-08  12.530  12.61  12.43  12.61  21217510.0          0.0          1.0   \n",
      "\n",
      "            Adj. Open  Adj. High  Adj. Low  Adj. Close  Adj. Volume  \n",
      "Date                                                                 \n",
      "2017-12-04     12.650      12.81     12.59       12.63   39394346.0  \n",
      "2017-12-05     12.610      12.62     12.40       12.43   44378959.0  \n",
      "2017-12-06     12.400      12.43     12.28       12.38   25879892.0  \n",
      "2017-12-07     12.395      12.59     12.33       12.53   25404223.0  \n",
      "2017-12-08     12.530      12.61     12.43       12.61   21217510.0  \n"
     ]
    }
   ],
   "source": [
    "mydata = quandl.get(\"WIKI/F\", start_date=\"2017-12-04\", end_date=\"2017-12-09\")\n",
    "print(mydata)"
   ]
  },
  {
   "cell_type": "code",
   "execution_count": 4,
   "metadata": {},
   "outputs": [
    {
     "name": "stdout",
     "output_type": "stream",
     "text": [
      "<class 'pandas.core.frame.DataFrame'>\n"
     ]
    }
   ],
   "source": [
    "print(type(mydata))"
   ]
  },
  {
   "cell_type": "code",
   "execution_count": 7,
   "metadata": {},
   "outputs": [],
   "source": [
    "import pandas as pd\n",
    "def get_data_quandl(symbol,start_date,end_date):\n",
    "    data = quandl.get(symbol,start_date=start_date,end_date=end_date)\n",
    "    return data"
   ]
  },
  {
   "cell_type": "code",
   "execution_count": 10,
   "metadata": {},
   "outputs": [],
   "source": [
    "def generate_features(df):\n",
    "        df_new = pd.DataFrame()\n",
    "        # 6 Original features\n",
    "        df_new['open'] = df['Open']\n",
    "        df_new['open_1'] = df['Open'].shift(1)\n",
    "        df_new['close_1'] = df['Close'].shift(1)\n",
    "        df_new['high_1'] = df['High'].shift(1)\n",
    "        df_new['low_1'] = df['Low'].shift(1)\n",
    "        df_new['volume_1'] = df['Volume'].shift(1)\n",
    "        \n",
    "        ## Derived Featues\n",
    "        \n",
    "        # Averages of closing price\n",
    "        df_new['avg_price_5'] = df['Close'].rolling(5).mean().shift(1)\n",
    "        df_new['avg_price_30'] = df['Close'].rolling(21).mean().shift(1)\n",
    "        df_new['avg_price_365'] = df['Close'].rolling(252).mean().shift(1)\n",
    "        # ratios of averages of closing price\n",
    "        df_new['ratio_avg_price_5_30'] = df_new['avg_price_5'] / df_new['avg_price_30']\n",
    "        df_new['ratio_avg_price_5_365'] = df_new['avg_price_5'] / df_new['avg_price_365']\n",
    "        df_new['ratio_avg_price_30_365'] = df_new['avg_price_30'] / df_new['avg_price_365']\n",
    "        \n",
    "        # Averages of volumes traded\n",
    "        df_new['avg_volume_5'] = df['Volume'].rolling(5).mean().shift(1)\n",
    "        df_new['avg_volume_30'] = df['Volume'].rolling(21).mean().shift(1)\n",
    "        df_new['avg_volume_365'] = df['Volume'].rolling(252).mean().shift(1)\n",
    "        # ratios of averages of volumes traded\n",
    "        df_new['ratio_avg_volume_5_30'] = df_new['avg_volume_5'] / df_new['avg_volume_30']\n",
    "        df_new['ratio_avg_volume_5_365'] = df_new['avg_volume_5'] / df_new['avg_volume_365']\n",
    "        df_new['ratio_avg_volume_30_365'] = df_new['avg_volume_30'] / df_new['avg_volume_365']\n",
    "\n",
    "        # standard deviation of prices\n",
    "        df_new['std_price_5'] = df['Close'].rolling(5).std().shift(1)\n",
    "        df_new['std_price_30'] = df['Close'].rolling(21).std().shift(1)\n",
    "        df_new['std_price_365'] = df['Close'].rolling(252).std().shift(1)\n",
    "        # Ratios of S.D. prices\n",
    "        df_new['ratio_std_price_5_30'] = df_new['std_price_5'] / df_new['std_price_30']\n",
    "        df_new['ratio_std_price_5_365'] = df_new['std_price_5'] / df_new['std_price_365']\n",
    "        df_new['ratio_std_price_30_365'] = df_new['std_price_30'] / df_new['std_price_365']\n",
    "        \n",
    "        # standard deviation of volumes traded\n",
    "        df_new['std_volume_5'] = df['Volume'].rolling(5).std().shift(1)\n",
    "        df_new['std_volume_30'] = df['Volume'].rolling(21).std().shift(1)\n",
    "        df_new['std_volume_365'] = df['Volume'].rolling(252).std().shift(1)\n",
    "        # Ratios of S.D. volumes traded\n",
    "        df_new['ratio_std_volume_5_30'] = df_new['std_volume_5'] / df_new['std_volume_30']\n",
    "        df_new['ratio_std_volume_5_365'] = df_new['std_volume_5'] / df_new['std_volume_365']\n",
    "        df_new['ratio_std_volume_30_365'] = df_new['std_volume_30'] / df_new['std_volume_365']\n",
    "        \n",
    "        # Calculating returns\n",
    "        df_new['return_1'] = ((df['Close'] - df['Close'].shift(1)) / df['Close'].shift(1)).shift(1)\n",
    "        df_new['return_5'] = ((df['Close'] - df['Close'].shift(5)) / df['Close'].shift(5)).shift(1)\n",
    "        df_new['return_30'] = ((df['Close'] - df['Close'].shift(21)) / df['Close'].shift(21)).shift(1)\n",
    "        df_new['return_365'] = ((df['Close'] - df['Close'].shift(252)) / df['Close'].shift(252)).shift(1)\n",
    "        # averages of returns\n",
    "        df_new['moving_avg_5'] = df_new['return_1'].rolling(5).mean().shift(1)\n",
    "        df_new['moving_avg_30'] = df_new['return_1'].rolling(21).mean().shift(1)\n",
    "        df_new['moving_avg_365'] = df_new['return_1'].rolling(252).mean().shift(1)\n",
    "        \n",
    "        # the target\n",
    "        df_new['close'] = df['Close']\n",
    "        # dropping N/A valued rows (because of moving averages)\n",
    "        df_new = df_new.dropna(axis=0)\n",
    "        \n",
    "        return df_new"
   ]
  },
  {
   "cell_type": "code",
   "execution_count": 11,
   "metadata": {},
   "outputs": [
    {
     "name": "stdout",
     "output_type": "stream",
     "text": [
      "             open  open_1  close_1  high_1  low_1    volume_1  avg_price_5  \\\n",
      "Date                                                                         \n",
      "2002-01-10  15.85   16.50    16.31   16.83  16.30   7033600.0       16.608   \n",
      "2002-01-11  15.26   15.85    15.29   15.90  15.10  14260600.0       16.320   \n",
      "2002-01-14  15.50   15.26    15.50   15.75  14.90  20725100.0       16.032   \n",
      "2002-01-15  15.20   15.50    15.35   15.50  15.15   7188300.0       15.802   \n",
      "2002-01-16  14.90   15.20    15.04   15.60  14.91   9463000.0       15.498   \n",
      "\n",
      "            avg_price_30  avg_price_365  ratio_avg_price_5_30  ...  \\\n",
      "Date                                                           ...   \n",
      "2002-01-10        15.969         23.237                 1.040  ...   \n",
      "2002-01-11        15.904         23.191                 1.026  ...   \n",
      "2002-01-14        15.849         23.148                 1.012  ...   \n",
      "2002-01-15        15.787         23.108                 1.001  ...   \n",
      "2002-01-16        15.733         23.062                 0.985  ...   \n",
      "\n",
      "            ratio_std_volume_5_365  ratio_std_volume_30_365  return_1  \\\n",
      "Date                                                                    \n",
      "2002-01-10                   0.654                    0.926    -0.015   \n",
      "2002-01-11                   1.502                    1.132    -0.063   \n",
      "2002-01-14                   2.564                    1.521     0.014   \n",
      "2002-01-15                   2.499                    1.507    -0.010   \n",
      "2002-01-16                   2.177                    1.491    -0.020   \n",
      "\n",
      "            return_5  return_30  return_365  moving_avg_5  moving_avg_30  \\\n",
      "Date                                                                       \n",
      "2002-01-10     0.006     -0.048      -0.351         0.011         -0.002   \n",
      "2002-01-11    -0.086     -0.082      -0.432         0.001         -0.002   \n",
      "2002-01-14    -0.085     -0.070      -0.410        -0.017         -0.004   \n",
      "2002-01-15    -0.070     -0.078      -0.401        -0.017         -0.003   \n",
      "2002-01-16    -0.092     -0.070      -0.431        -0.014         -0.004   \n",
      "\n",
      "            moving_avg_365  close  \n",
      "Date                               \n",
      "2002-01-10          -0.001  15.29  \n",
      "2002-01-11          -0.001  15.50  \n",
      "2002-01-14          -0.002  15.35  \n",
      "2002-01-15          -0.002  15.04  \n",
      "2002-01-16          -0.002  14.96  \n",
      "\n",
      "[5 rows x 38 columns]\n"
     ]
    }
   ],
   "source": [
    "symbol = 'WIKI/F'\n",
    "start = '2001-01-01'\n",
    "end = '2004-12-31'\n",
    "data_raw = get_data_quandl(symbol, start, end)\n",
    "data = generate_features(data_raw)\n",
    "print(data.round(decimals=3).head())"
   ]
  },
  {
   "cell_type": "code",
   "execution_count": null,
   "metadata": {},
   "outputs": [],
   "source": []
  }
 ],
 "metadata": {
  "kernelspec": {
   "display_name": "Python 3",
   "language": "python",
   "name": "python3"
  },
  "language_info": {
   "codemirror_mode": {
    "name": "ipython",
    "version": 3
   },
   "file_extension": ".py",
   "mimetype": "text/x-python",
   "name": "python",
   "nbconvert_exporter": "python",
   "pygments_lexer": "ipython3",
   "version": "3.7.4"
  }
 },
 "nbformat": 4,
 "nbformat_minor": 2
}
